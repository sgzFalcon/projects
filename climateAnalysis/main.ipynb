{
 "cells": [
  {
   "cell_type": "code",
   "execution_count": 1,
   "metadata": {},
   "outputs": [],
   "source": [
    "import pandas as pd\n",
    "import numpy as np\n",
    "import matplotlib.pyplot as plt\n",
    "import seaborn as sns\n",
    "import scipy.stats"
   ]
  },
  {
   "cell_type": "code",
   "execution_count": 2,
   "metadata": {},
   "outputs": [],
   "source": [
    "def solow(RSS1,RSS2,n):\n",
    "    return ((RSS1 - RSS2)/3)/(RSS2/(n-4)) > scipy.stats.f.ppf(0.95,3,n-4) #Alpha = 0.05\n",
    "def Ztest(X1, X2, sd1, sd2, n1, n2):\n",
    "    pooledSE = np.sqrt(sd1**2/n1 + sd2**2/n2)\n",
    "    z = (X1 - X2)/pooledSE\n",
    "    return np.abs(z) > np.abs(scipy.stats.norm.ppf(0.025)) #Bilateral test: Alpha = 0.05"
   ]
  },
  {
   "cell_type": "markdown",
   "metadata": {},
   "source": [
    "Load csv with stations' metadata so we can identify stations' ids:"
   ]
  },
  {
   "cell_type": "code",
   "execution_count": 3,
   "metadata": {},
   "outputs": [
    {
     "data": {
      "text/html": [
       "<div>\n",
       "<style scoped>\n",
       "    .dataframe tbody tr th:only-of-type {\n",
       "        vertical-align: middle;\n",
       "    }\n",
       "\n",
       "    .dataframe tbody tr th {\n",
       "        vertical-align: top;\n",
       "    }\n",
       "\n",
       "    .dataframe thead th {\n",
       "        text-align: right;\n",
       "    }\n",
       "</style>\n",
       "<table border=\"1\" class=\"dataframe\">\n",
       "  <thead>\n",
       "    <tr style=\"text-align: right;\">\n",
       "      <th></th>\n",
       "      <th>province</th>\n",
       "      <th>id</th>\n",
       "      <th>name</th>\n",
       "      <th>longitude</th>\n",
       "      <th>latitude</th>\n",
       "      <th>height</th>\n",
       "    </tr>\n",
       "  </thead>\n",
       "  <tbody>\n",
       "    <tr>\n",
       "      <th>0</th>\n",
       "      <td>BARCELONA</td>\n",
       "      <td>1203</td>\n",
       "      <td>BALENYA</td>\n",
       "      <td>2.26</td>\n",
       "      <td>41.85</td>\n",
       "      <td>570</td>\n",
       "    </tr>\n",
       "    <tr>\n",
       "      <th>1</th>\n",
       "      <td>BURGOS</td>\n",
       "      <td>9069</td>\n",
       "      <td>MIRANDA DE EBRO</td>\n",
       "      <td>-2.96</td>\n",
       "      <td>42.68</td>\n",
       "      <td>520</td>\n",
       "    </tr>\n",
       "    <tr>\n",
       "      <th>2</th>\n",
       "      <td>HUESCA</td>\n",
       "      <td>9489</td>\n",
       "      <td>LA SOTONERA EMBALSE</td>\n",
       "      <td>-0.67</td>\n",
       "      <td>42.11</td>\n",
       "      <td>413</td>\n",
       "    </tr>\n",
       "    <tr>\n",
       "      <th>3</th>\n",
       "      <td>NAVARRA</td>\n",
       "      <td>9269</td>\n",
       "      <td>ALSASUA</td>\n",
       "      <td>-2.18</td>\n",
       "      <td>42.89</td>\n",
       "      <td>525</td>\n",
       "    </tr>\n",
       "    <tr>\n",
       "      <th>4</th>\n",
       "      <td>NAVARRA</td>\n",
       "      <td>9301</td>\n",
       "      <td>MONTEAGUDO</td>\n",
       "      <td>-1.69</td>\n",
       "      <td>41.96</td>\n",
       "      <td>410</td>\n",
       "    </tr>\n",
       "    <tr>\n",
       "      <th>5</th>\n",
       "      <td>SORIA</td>\n",
       "      <td>2030</td>\n",
       "      <td>SORIA 'OBSERVATORIO'</td>\n",
       "      <td>-2.48</td>\n",
       "      <td>41.77</td>\n",
       "      <td>1082</td>\n",
       "    </tr>\n",
       "    <tr>\n",
       "      <th>6</th>\n",
       "      <td>SORIA</td>\n",
       "      <td>2085</td>\n",
       "      <td>EL BURGO DE OSMA</td>\n",
       "      <td>-3.07</td>\n",
       "      <td>41.59</td>\n",
       "      <td>895</td>\n",
       "    </tr>\n",
       "    <tr>\n",
       "      <th>7</th>\n",
       "      <td>TARRAGONA</td>\n",
       "      <td>1017</td>\n",
       "      <td>VILASECA</td>\n",
       "      <td>1.15</td>\n",
       "      <td>41.11</td>\n",
       "      <td>53</td>\n",
       "    </tr>\n",
       "    <tr>\n",
       "      <th>8</th>\n",
       "      <td>TARRAGONA</td>\n",
       "      <td>9971</td>\n",
       "      <td>TIVISSA</td>\n",
       "      <td>0.73</td>\n",
       "      <td>41.04</td>\n",
       "      <td>310</td>\n",
       "    </tr>\n",
       "    <tr>\n",
       "      <th>9</th>\n",
       "      <td>ZARAGOZA</td>\n",
       "      <td>9390</td>\n",
       "      <td>DAROCA OBSERVATORIO</td>\n",
       "      <td>-1.41</td>\n",
       "      <td>41.11</td>\n",
       "      <td>779</td>\n",
       "    </tr>\n",
       "    <tr>\n",
       "      <th>10</th>\n",
       "      <td>ZARAGOZA</td>\n",
       "      <td>9523</td>\n",
       "      <td>ESCATRON</td>\n",
       "      <td>-0.35</td>\n",
       "      <td>41.30</td>\n",
       "      <td>143</td>\n",
       "    </tr>\n",
       "    <tr>\n",
       "      <th>11</th>\n",
       "      <td>ZARAGOZA</td>\n",
       "      <td>9371</td>\n",
       "      <td>TERRER AZUCARERA</td>\n",
       "      <td>-1.71</td>\n",
       "      <td>41.33</td>\n",
       "      <td>570</td>\n",
       "    </tr>\n",
       "  </tbody>\n",
       "</table>\n",
       "</div>"
      ],
      "text/plain": [
       "      province    id                    name  longitude  latitude  height\n",
       "0   BARCELONA   1203                BALENYA        2.26     41.85     570\n",
       "1      BURGOS   9069        MIRANDA DE EBRO       -2.96     42.68     520\n",
       "2      HUESCA   9489    LA SOTONERA EMBALSE       -0.67     42.11     413\n",
       "3     NAVARRA   9269                ALSASUA       -2.18     42.89     525\n",
       "4     NAVARRA   9301             MONTEAGUDO       -1.69     41.96     410\n",
       "5       SORIA   2030   SORIA 'OBSERVATORIO'       -2.48     41.77    1082\n",
       "6       SORIA   2085       EL BURGO DE OSMA       -3.07     41.59     895\n",
       "7   TARRAGONA   1017               VILASECA        1.15     41.11      53\n",
       "8   TARRAGONA   9971                TIVISSA        0.73     41.04     310\n",
       "9    ZARAGOZA   9390    DAROCA OBSERVATORIO       -1.41     41.11     779\n",
       "10   ZARAGOZA   9523               ESCATRON       -0.35     41.30     143\n",
       "11   ZARAGOZA   9371       TERRER AZUCARERA       -1.71     41.33     570"
      ]
     },
     "execution_count": 3,
     "metadata": {},
     "output_type": "execute_result"
    }
   ],
   "source": [
    "col_stations = ['province','id','name','longitude','latitude','height','unknown']\n",
    "stationsID = pd.read_csv('data\\ESTACIONES.txt', sep=';', header=None, names=col_stations).drop(columns='unknown')\n",
    "stationsID"
   ]
  },
  {
   "cell_type": "markdown",
   "metadata": {},
   "source": [
    "Now we read climate data from different stations into a dictionary and then merge into one Data Frame:"
   ]
  },
  {
   "cell_type": "code",
   "execution_count": 4,
   "metadata": {},
   "outputs": [
    {
     "data": {
      "text/html": [
       "<div>\n",
       "<style scoped>\n",
       "    .dataframe tbody tr th:only-of-type {\n",
       "        vertical-align: middle;\n",
       "    }\n",
       "\n",
       "    .dataframe tbody tr th {\n",
       "        vertical-align: top;\n",
       "    }\n",
       "\n",
       "    .dataframe thead th {\n",
       "        text-align: right;\n",
       "    }\n",
       "</style>\n",
       "<table border=\"1\" class=\"dataframe\">\n",
       "  <thead>\n",
       "    <tr style=\"text-align: right;\">\n",
       "      <th></th>\n",
       "      <th>1203</th>\n",
       "      <th>9069</th>\n",
       "      <th>9489</th>\n",
       "      <th>9269</th>\n",
       "      <th>9301</th>\n",
       "      <th>2030</th>\n",
       "      <th>2085</th>\n",
       "      <th>1017</th>\n",
       "      <th>9971</th>\n",
       "      <th>9390</th>\n",
       "      <th>9523</th>\n",
       "      <th>9371</th>\n",
       "    </tr>\n",
       "    <tr>\n",
       "      <th>year</th>\n",
       "      <th></th>\n",
       "      <th></th>\n",
       "      <th></th>\n",
       "      <th></th>\n",
       "      <th></th>\n",
       "      <th></th>\n",
       "      <th></th>\n",
       "      <th></th>\n",
       "      <th></th>\n",
       "      <th></th>\n",
       "      <th></th>\n",
       "      <th></th>\n",
       "    </tr>\n",
       "  </thead>\n",
       "  <tbody>\n",
       "    <tr>\n",
       "      <th>1956</th>\n",
       "      <td>5.56123</td>\n",
       "      <td>7.92211</td>\n",
       "      <td>7.72084</td>\n",
       "      <td>6.19617</td>\n",
       "      <td>5.82826</td>\n",
       "      <td>1.32384</td>\n",
       "      <td>1.73872</td>\n",
       "      <td>10.1185</td>\n",
       "      <td>8.16141</td>\n",
       "      <td>6.61261</td>\n",
       "      <td>7.91825</td>\n",
       "      <td>4.61540</td>\n",
       "    </tr>\n",
       "    <tr>\n",
       "      <th>1957</th>\n",
       "      <td>4.98041</td>\n",
       "      <td>8.63398</td>\n",
       "      <td>8.17260</td>\n",
       "      <td>7.34303</td>\n",
       "      <td>6.66681</td>\n",
       "      <td>1.97370</td>\n",
       "      <td>1.15640</td>\n",
       "      <td>10.5183</td>\n",
       "      <td>8.58456</td>\n",
       "      <td>7.26526</td>\n",
       "      <td>8.30919</td>\n",
       "      <td>5.07892</td>\n",
       "    </tr>\n",
       "    <tr>\n",
       "      <th>1958</th>\n",
       "      <td>5.96169</td>\n",
       "      <td>9.97144</td>\n",
       "      <td>9.59621</td>\n",
       "      <td>7.55125</td>\n",
       "      <td>7.41064</td>\n",
       "      <td>3.44861</td>\n",
       "      <td>2.49214</td>\n",
       "      <td>11.9026</td>\n",
       "      <td>9.59260</td>\n",
       "      <td>8.51326</td>\n",
       "      <td>9.41647</td>\n",
       "      <td>6.30164</td>\n",
       "    </tr>\n",
       "    <tr>\n",
       "      <th>1959</th>\n",
       "      <td>6.51167</td>\n",
       "      <td>9.87581</td>\n",
       "      <td>9.98493</td>\n",
       "      <td>6.89783</td>\n",
       "      <td>7.44723</td>\n",
       "      <td>4.06046</td>\n",
       "      <td>4.53880</td>\n",
       "      <td>12.6202</td>\n",
       "      <td>9.76165</td>\n",
       "      <td>8.73918</td>\n",
       "      <td>9.45702</td>\n",
       "      <td>6.85304</td>\n",
       "    </tr>\n",
       "    <tr>\n",
       "      <th>1960</th>\n",
       "      <td>6.52788</td>\n",
       "      <td>9.61240</td>\n",
       "      <td>9.48082</td>\n",
       "      <td>6.62796</td>\n",
       "      <td>7.30628</td>\n",
       "      <td>3.24076</td>\n",
       "      <td>3.70945</td>\n",
       "      <td>11.9556</td>\n",
       "      <td>9.17480</td>\n",
       "      <td>8.52391</td>\n",
       "      <td>8.87280</td>\n",
       "      <td>6.26711</td>\n",
       "    </tr>\n",
       "  </tbody>\n",
       "</table>\n",
       "</div>"
      ],
      "text/plain": [
       "         1203     9069     9489     9269     9301     2030     2085     1017  \\\n",
       "year                                                                           \n",
       "1956  5.56123  7.92211  7.72084  6.19617  5.82826  1.32384  1.73872  10.1185   \n",
       "1957  4.98041  8.63398  8.17260  7.34303  6.66681  1.97370  1.15640  10.5183   \n",
       "1958  5.96169  9.97144  9.59621  7.55125  7.41064  3.44861  2.49214  11.9026   \n",
       "1959  6.51167  9.87581  9.98493  6.89783  7.44723  4.06046  4.53880  12.6202   \n",
       "1960  6.52788  9.61240  9.48082  6.62796  7.30628  3.24076  3.70945  11.9556   \n",
       "\n",
       "         9971     9390     9523     9371  \n",
       "year                                      \n",
       "1956  8.16141  6.61261  7.91825  4.61540  \n",
       "1957  8.58456  7.26526  8.30919  5.07892  \n",
       "1958  9.59260  8.51326  9.41647  6.30164  \n",
       "1959  9.76165  8.73918  9.45702  6.85304  \n",
       "1960  9.17480  8.52391  8.87280  6.26711  "
      ]
     },
     "execution_count": 4,
     "metadata": {},
     "output_type": "execute_result"
    }
   ],
   "source": [
    "#col_station = ['year','temperature']\n",
    "station = {}\n",
    "for id in stationsID['id'].iteritems():\n",
    "    station[str(id[1])] = pd.read_csv('data/Tmin_'+str(id[1])+'_filled_annual_means.txt', sep='    ',\n",
    "                                      header=None, names=['year',str(id[1])], engine='python').set_index('year')\n",
    "stations = pd.concat(station.values(),axis=1)\n",
    "stations.head()"
   ]
  },
  {
   "cell_type": "markdown",
   "metadata": {},
   "source": [
    "Now we choose the origin or studied station:"
   ]
  },
  {
   "cell_type": "code",
   "execution_count": 5,
   "metadata": {},
   "outputs": [
    {
     "data": {
      "image/png": "[encoded data removed]",
      "text/plain": [
       "<matplotlib.figure.Figure at 0x1894f74a320>"
      ]
     },
     "metadata": {},
     "output_type": "display_data"
    }
   ],
   "source": [
    "origin = '9489'\n",
    "stations[origin].plot.line()\n",
    "oriSeries = stations[origin]"
   ]
  },
  {
   "cell_type": "markdown",
   "metadata": {},
   "source": [
    "Then we have to calculate the difference between years so discontinuities in other series lose weight"
   ]
  },
  {
   "cell_type": "code",
   "execution_count": 6,
   "metadata": {},
   "outputs": [],
   "source": [
    "ydiff ={}\n",
    "for col in stations.columns[:]:\n",
    "    ydiff[col] = stations[col].shift(-1)-stations[col]\n",
    "yearDiff = pd.concat(ydiff.values(), axis=1).drop(1998)"
   ]
  },
  {
   "cell_type": "code",
   "execution_count": 7,
   "metadata": {},
   "outputs": [
    {
     "data": {
      "text/plain": [
       "<matplotlib.axes._subplots.AxesSubplot at 0x1895187e208>"
      ]
     },
     "execution_count": 7,
     "metadata": {},
     "output_type": "execute_result"
    },
    {
     "data": {
      "image/png": "[encoded data removed]",
      "text/plain": [
       "<matplotlib.figure.Figure at 0x18951862b38>"
      ]
     },
     "metadata": {},
     "output_type": "display_data"
    }
   ],
   "source": [
    "yearDiff[origin].plot.line()"
   ]
  },
  {
   "cell_type": "markdown",
   "metadata": {},
   "source": [
    "At this point we can look for the stations with the best correlation in the year difference and took the first five:"
   ]
  },
  {
   "cell_type": "code",
   "execution_count": 8,
   "metadata": {},
   "outputs": [],
   "source": [
    "correlations = yearDiff.corr(method='pearson')\n",
    "bestSts = correlations[origin][correlations[origin] > 0.35].drop(origin).sort_values(ascending=False).head(5) \\\n",
    "            .to_frame(name='corrCoef')\n",
    "bestSts['corrCoef2'] = bestSts['corrCoef']**2"
   ]
  },
  {
   "cell_type": "markdown",
   "metadata": {},
   "source": [
    "Create a reference series with the five stations, weighted with R<sup>2</sup> "
   ]
  },
  {
   "cell_type": "code",
   "execution_count": 9,
   "metadata": {},
   "outputs": [],
   "source": [
    "refDict = {}\n",
    "for index in bestSts.index:\n",
    "    refDict[index] = yearDiff[index]*bestSts['corrCoef2'].loc[index]\n",
    "refSeriesDiff = pd.concat(refDict.values(), axis=1).sum(axis=1)/bestSts['corrCoef2'].sum()"
   ]
  },
  {
   "cell_type": "markdown",
   "metadata": {},
   "source": [
    "Taking the most recent data in the original station as valid we apply the annual difference"
   ]
  },
  {
   "cell_type": "code",
   "execution_count": 10,
   "metadata": {},
   "outputs": [],
   "source": [
    "refSeries = oriSeries.copy()\n",
    "for i,diff in enumerate(refSeriesDiff.sort_index(ascending=False).tolist()):\n",
    "    refSeries.loc[1998-(i+1)] = refSeries.loc[1998-i]+diff\n",
    "refSeries = refSeries.sort_index()"
   ]
  },
  {
   "cell_type": "code",
   "execution_count": 11,
   "metadata": {},
   "outputs": [
    {
     "data": {
      "text/plain": [
       "<matplotlib.axes._subplots.AxesSubplot at 0x1895188c748>"
      ]
     },
     "execution_count": 11,
     "metadata": {},
     "output_type": "execute_result"
    },
    {
     "data": {
      "image/png": "[encoded data removed]",
      "text/plain": [
       "<matplotlib.figure.Figure at 0x18951887358>"
      ]
     },
     "metadata": {},
     "output_type": "display_data"
    }
   ],
   "source": [
    "OriRefDF = pd.concat({'Reference':refSeries, 'Original':oriSeries}, axis=1)\n",
    "OriRefDF.plot.line()"
   ]
  },
  {
   "cell_type": "markdown",
   "metadata": {},
   "source": [
    "Add a third column of the difference between reference and original series"
   ]
  },
  {
   "cell_type": "code",
   "execution_count": 12,
   "metadata": {},
   "outputs": [
    {
     "data": {
      "text/plain": [
       "<matplotlib.axes._subplots.AxesSubplot at 0x1895192dc88>"
      ]
     },
     "execution_count": 12,
     "metadata": {},
     "output_type": "execute_result"
    },
    {
     "data": {
      "image/png": "[encoded data removed]",
      "text/plain": [
       "<matplotlib.figure.Figure at 0x189518f7860>"
      ]
     },
     "metadata": {},
     "output_type": "display_data"
    }
   ],
   "source": [
    "OriRefDF['diff']=OriRefDF['Reference'] - OriRefDF['Original']\n",
    "OriRefDF['diff'].plot.line()"
   ]
  },
  {
   "cell_type": "code",
   "execution_count": 13,
   "metadata": {},
   "outputs": [
    {
     "data": {
      "text/plain": [
       "<matplotlib.axes._subplots.AxesSubplot at 0x18952984320>"
      ]
     },
     "execution_count": 13,
     "metadata": {},
     "output_type": "execute_result"
    },
    {
     "data": {
      "image/png": "[encoded data removed]",
      "text/plain": [
       "<matplotlib.figure.Figure at 0x1895296d940>"
      ]
     },
     "metadata": {},
     "output_type": "display_data"
    }
   ],
   "source": [
    "coef1, RSS1, _, _, _ = np.polyfit(OriRefDF.index,OriRefDF['diff'],1,full=True)\n",
    "linear_reg1 = np.poly1d(coef1)\n",
    "RSS1 = RSS1[0] #Maybe it would be better to plot the data without adding it to the DF\n",
    "OriRefDF['linear1'] = np.NAN\n",
    "for index in OriRefDF.index:\n",
    "    OriRefDF['linear1'].loc[index] = linear_reg1(index)\n",
    "OriRefDF[['diff','linear1']].plot.line()"
   ]
  },
  {
   "cell_type": "markdown",
   "metadata": {},
   "source": [
    "We have to divide the series in two series so we can look for discontinuities"
   ]
  },
  {
   "cell_type": "code",
   "execution_count": 14,
   "metadata": {},
   "outputs": [
    {
     "data": {
      "text/plain": [
       "[<matplotlib.lines.Line2D at 0x18952a43208>,\n",
       " <matplotlib.lines.Line2D at 0x18952a432b0>,\n",
       " <matplotlib.lines.Line2D at 0x18952a43d30>]"
      ]
     },
     "execution_count": 14,
     "metadata": {},
     "output_type": "execute_result"
    },
    {
     "data": {
      "image/png": "[encoded data removed]",
      "text/plain": [
       "<matplotlib.figure.Figure at 0x189529f1dd8>"
      ]
     },
     "metadata": {},
     "output_type": "display_data"
    }
   ],
   "source": [
    "OriRefDF['RSS2'] = RSS1\n",
    "for point in range(5,37):\n",
    "    sub1 = OriRefDF['diff'].iloc[:point]\n",
    "    sub2 = OriRefDF['diff'].iloc[point:]\n",
    "    subcoef1, RSSs1,_,_,_ = np.polyfit(OriRefDF.index[:point],sub1,1,full=True)\n",
    "    #sublinear_reg1 = np.poly1d(subcoef1)\n",
    "    subcoef2, RSSs2,_,_,_ = np.polyfit(OriRefDF.index[point:],sub2,1,full=True)\n",
    "    #sublinear_reg1 = np.poly1d(subcoef2)\n",
    "    OriRefDF['RSS2'].iloc[point] = RSSs1[0] + RSSs2[0]\n",
    "point = OriRefDF.index.get_loc(OriRefDF['RSS2'].idxmin())\n",
    "RSS2 = OriRefDF['RSS2'].min()\n",
    "subyear1 = OriRefDF.index[:point]\n",
    "subyear2 = OriRefDF.index[point:]\n",
    "subcoef1 = np.polyfit(subyear1,OriRefDF['diff'].iloc[:point],1)\n",
    "subcoef2 = np.polyfit(subyear2,OriRefDF['diff'].iloc[point:],1)\n",
    "sublinear_reg1 = np.poly1d(subcoef1)\n",
    "sublinear_reg2 = np.poly1d(subcoef2)\n",
    "plt.plot(subyear1,sublinear_reg1(subyear1),subyear2, sublinear_reg2(subyear2), OriRefDF.index, OriRefDF['diff'])"
   ]
  },
  {
   "cell_type": "markdown",
   "metadata": {},
   "source": [
    "Now we now the year with minimum RSS2 so we ckeck in with an F-Test"
   ]
  },
  {
   "cell_type": "code",
   "execution_count": 15,
   "metadata": {},
   "outputs": [
    {
     "data": {
      "text/plain": [
       "True"
      ]
     },
     "execution_count": 15,
     "metadata": {},
     "output_type": "execute_result"
    }
   ],
   "source": [
    "solow(RSS1,RSS2,42)"
   ]
  },
  {
   "cell_type": "markdown",
   "metadata": {},
   "source": [
    "Perform a Z-Test will stablish if it is a real discontinuity"
   ]
  },
  {
   "cell_type": "code",
   "execution_count": 16,
   "metadata": {},
   "outputs": [
    {
     "data": {
      "text/plain": [
       "True"
      ]
     },
     "execution_count": 16,
     "metadata": {},
     "output_type": "execute_result"
    }
   ],
   "source": [
    "sub1 = OriRefDF['diff'].iloc[:point]\n",
    "sub2 = OriRefDF['diff'].iloc[point:]\n",
    "Ztest(np.mean(sub1),np.mean(sub2),np.std(sub1),np.std(sub2),len(sub1),len(sub2))"
   ]
  },
  {
   "cell_type": "code",
   "execution_count": 17,
   "metadata": {},
   "outputs": [
    {
     "data": {
      "text/html": [
       "<div>\n",
       "<style scoped>\n",
       "    .dataframe tbody tr th:only-of-type {\n",
       "        vertical-align: middle;\n",
       "    }\n",
       "\n",
       "    .dataframe tbody tr th {\n",
       "        vertical-align: top;\n",
       "    }\n",
       "\n",
       "    .dataframe thead th {\n",
       "        text-align: right;\n",
       "    }\n",
       "</style>\n",
       "<table border=\"1\" class=\"dataframe\">\n",
       "  <thead>\n",
       "    <tr style=\"text-align: right;\">\n",
       "      <th></th>\n",
       "      <th>Original</th>\n",
       "      <th>Reference</th>\n",
       "      <th>diff</th>\n",
       "      <th>linear1</th>\n",
       "      <th>RSS2</th>\n",
       "    </tr>\n",
       "    <tr>\n",
       "      <th>year</th>\n",
       "      <th></th>\n",
       "      <th></th>\n",
       "      <th></th>\n",
       "      <th></th>\n",
       "      <th></th>\n",
       "    </tr>\n",
       "  </thead>\n",
       "  <tbody>\n",
       "    <tr>\n",
       "      <th>1956</th>\n",
       "      <td>7.72084</td>\n",
       "      <td>8.954734</td>\n",
       "      <td>1.233894</td>\n",
       "      <td>-0.408076</td>\n",
       "      <td>83.880190</td>\n",
       "    </tr>\n",
       "    <tr>\n",
       "      <th>1957</th>\n",
       "      <td>8.17260</td>\n",
       "      <td>8.657428</td>\n",
       "      <td>0.484828</td>\n",
       "      <td>-0.410988</td>\n",
       "      <td>83.880190</td>\n",
       "    </tr>\n",
       "    <tr>\n",
       "      <th>1958</th>\n",
       "      <td>9.59621</td>\n",
       "      <td>7.408128</td>\n",
       "      <td>-2.188082</td>\n",
       "      <td>-0.413901</td>\n",
       "      <td>83.880190</td>\n",
       "    </tr>\n",
       "    <tr>\n",
       "      <th>1959</th>\n",
       "      <td>9.98493</td>\n",
       "      <td>6.888213</td>\n",
       "      <td>-3.096717</td>\n",
       "      <td>-0.416813</td>\n",
       "      <td>83.880190</td>\n",
       "    </tr>\n",
       "    <tr>\n",
       "      <th>1960</th>\n",
       "      <td>9.48082</td>\n",
       "      <td>7.309415</td>\n",
       "      <td>-2.171405</td>\n",
       "      <td>-0.419726</td>\n",
       "      <td>83.880190</td>\n",
       "    </tr>\n",
       "    <tr>\n",
       "      <th>1961</th>\n",
       "      <td>9.47640</td>\n",
       "      <td>7.147880</td>\n",
       "      <td>-2.328520</td>\n",
       "      <td>-0.422638</td>\n",
       "      <td>69.069289</td>\n",
       "    </tr>\n",
       "    <tr>\n",
       "      <th>1962</th>\n",
       "      <td>9.19167</td>\n",
       "      <td>7.735464</td>\n",
       "      <td>-1.456206</td>\n",
       "      <td>-0.425551</td>\n",
       "      <td>65.072809</td>\n",
       "    </tr>\n",
       "    <tr>\n",
       "      <th>1963</th>\n",
       "      <td>8.80165</td>\n",
       "      <td>7.839865</td>\n",
       "      <td>-0.961785</td>\n",
       "      <td>-0.428463</td>\n",
       "      <td>65.589113</td>\n",
       "    </tr>\n",
       "    <tr>\n",
       "      <th>1964</th>\n",
       "      <td>9.11081</td>\n",
       "      <td>7.439848</td>\n",
       "      <td>-1.670962</td>\n",
       "      <td>-0.431376</td>\n",
       "      <td>66.940842</td>\n",
       "    </tr>\n",
       "    <tr>\n",
       "      <th>1965</th>\n",
       "      <td>7.75566</td>\n",
       "      <td>7.895768</td>\n",
       "      <td>0.140108</td>\n",
       "      <td>-0.434288</td>\n",
       "      <td>62.479338</td>\n",
       "    </tr>\n",
       "    <tr>\n",
       "      <th>1966</th>\n",
       "      <td>9.62110</td>\n",
       "      <td>7.231529</td>\n",
       "      <td>-2.389571</td>\n",
       "      <td>-0.437201</td>\n",
       "      <td>66.727436</td>\n",
       "    </tr>\n",
       "    <tr>\n",
       "      <th>1967</th>\n",
       "      <td>9.11726</td>\n",
       "      <td>7.728613</td>\n",
       "      <td>-1.388647</td>\n",
       "      <td>-0.440113</td>\n",
       "      <td>56.561422</td>\n",
       "    </tr>\n",
       "    <tr>\n",
       "      <th>1968</th>\n",
       "      <td>9.41743</td>\n",
       "      <td>7.297480</td>\n",
       "      <td>-2.119950</td>\n",
       "      <td>-0.443026</td>\n",
       "      <td>50.443690</td>\n",
       "    </tr>\n",
       "    <tr>\n",
       "      <th>1969</th>\n",
       "      <td>6.98790</td>\n",
       "      <td>7.834467</td>\n",
       "      <td>0.846567</td>\n",
       "      <td>-0.445938</td>\n",
       "      <td>37.784390</td>\n",
       "    </tr>\n",
       "    <tr>\n",
       "      <th>1970</th>\n",
       "      <td>6.91014</td>\n",
       "      <td>7.866330</td>\n",
       "      <td>0.956190</td>\n",
       "      <td>-0.448851</td>\n",
       "      <td>43.541466</td>\n",
       "    </tr>\n",
       "    <tr>\n",
       "      <th>1971</th>\n",
       "      <td>6.82082</td>\n",
       "      <td>7.922118</td>\n",
       "      <td>1.101298</td>\n",
       "      <td>-0.451763</td>\n",
       "      <td>47.135663</td>\n",
       "    </tr>\n",
       "    <tr>\n",
       "      <th>1972</th>\n",
       "      <td>6.55315</td>\n",
       "      <td>8.131599</td>\n",
       "      <td>1.578449</td>\n",
       "      <td>-0.454676</td>\n",
       "      <td>49.565512</td>\n",
       "    </tr>\n",
       "    <tr>\n",
       "      <th>1973</th>\n",
       "      <td>6.55040</td>\n",
       "      <td>8.210860</td>\n",
       "      <td>1.660460</td>\n",
       "      <td>-0.457588</td>\n",
       "      <td>52.153302</td>\n",
       "    </tr>\n",
       "    <tr>\n",
       "      <th>1974</th>\n",
       "      <td>6.31945</td>\n",
       "      <td>7.962333</td>\n",
       "      <td>1.642883</td>\n",
       "      <td>-0.460501</td>\n",
       "      <td>53.559802</td>\n",
       "    </tr>\n",
       "    <tr>\n",
       "      <th>1975</th>\n",
       "      <td>6.57480</td>\n",
       "      <td>8.211843</td>\n",
       "      <td>1.637043</td>\n",
       "      <td>-0.463413</td>\n",
       "      <td>53.982191</td>\n",
       "    </tr>\n",
       "    <tr>\n",
       "      <th>1976</th>\n",
       "      <td>6.65507</td>\n",
       "      <td>8.061578</td>\n",
       "      <td>1.406508</td>\n",
       "      <td>-0.466325</td>\n",
       "      <td>53.681821</td>\n",
       "    </tr>\n",
       "    <tr>\n",
       "      <th>1977</th>\n",
       "      <td>7.14603</td>\n",
       "      <td>7.398569</td>\n",
       "      <td>0.252539</td>\n",
       "      <td>-0.469238</td>\n",
       "      <td>53.072917</td>\n",
       "    </tr>\n",
       "    <tr>\n",
       "      <th>1978</th>\n",
       "      <td>6.96055</td>\n",
       "      <td>7.795826</td>\n",
       "      <td>0.835276</td>\n",
       "      <td>-0.472150</td>\n",
       "      <td>54.310027</td>\n",
       "    </tr>\n",
       "    <tr>\n",
       "      <th>1979</th>\n",
       "      <td>7.43593</td>\n",
       "      <td>7.215645</td>\n",
       "      <td>-0.220285</td>\n",
       "      <td>-0.475063</td>\n",
       "      <td>54.368487</td>\n",
       "    </tr>\n",
       "    <tr>\n",
       "      <th>1980</th>\n",
       "      <td>6.83425</td>\n",
       "      <td>7.974216</td>\n",
       "      <td>1.139966</td>\n",
       "      <td>-0.477975</td>\n",
       "      <td>56.606145</td>\n",
       "    </tr>\n",
       "    <tr>\n",
       "      <th>1981</th>\n",
       "      <td>8.22278</td>\n",
       "      <td>7.309850</td>\n",
       "      <td>-0.912930</td>\n",
       "      <td>-0.480888</td>\n",
       "      <td>55.515213</td>\n",
       "    </tr>\n",
       "    <tr>\n",
       "      <th>1982</th>\n",
       "      <td>8.10849</td>\n",
       "      <td>6.944468</td>\n",
       "      <td>-1.164022</td>\n",
       "      <td>-0.483800</td>\n",
       "      <td>59.473296</td>\n",
       "    </tr>\n",
       "    <tr>\n",
       "      <th>1983</th>\n",
       "      <td>7.57781</td>\n",
       "      <td>7.179711</td>\n",
       "      <td>-0.398099</td>\n",
       "      <td>-0.486713</td>\n",
       "      <td>62.646776</td>\n",
       "    </tr>\n",
       "    <tr>\n",
       "      <th>1984</th>\n",
       "      <td>6.78110</td>\n",
       "      <td>7.963129</td>\n",
       "      <td>1.182029</td>\n",
       "      <td>-0.489625</td>\n",
       "      <td>63.842083</td>\n",
       "    </tr>\n",
       "    <tr>\n",
       "      <th>1985</th>\n",
       "      <td>7.02055</td>\n",
       "      <td>7.671802</td>\n",
       "      <td>0.651252</td>\n",
       "      <td>-0.492538</td>\n",
       "      <td>62.602707</td>\n",
       "    </tr>\n",
       "    <tr>\n",
       "      <th>1986</th>\n",
       "      <td>7.38822</td>\n",
       "      <td>7.712529</td>\n",
       "      <td>0.324309</td>\n",
       "      <td>-0.495450</td>\n",
       "      <td>61.586965</td>\n",
       "    </tr>\n",
       "    <tr>\n",
       "      <th>1987</th>\n",
       "      <td>7.92877</td>\n",
       "      <td>7.254565</td>\n",
       "      <td>-0.674205</td>\n",
       "      <td>-0.498363</td>\n",
       "      <td>60.700604</td>\n",
       "    </tr>\n",
       "    <tr>\n",
       "      <th>1988</th>\n",
       "      <td>7.36740</td>\n",
       "      <td>7.509237</td>\n",
       "      <td>0.141837</td>\n",
       "      <td>-0.501275</td>\n",
       "      <td>62.975372</td>\n",
       "    </tr>\n",
       "    <tr>\n",
       "      <th>1989</th>\n",
       "      <td>8.78137</td>\n",
       "      <td>6.564198</td>\n",
       "      <td>-2.217172</td>\n",
       "      <td>-0.504188</td>\n",
       "      <td>60.724435</td>\n",
       "    </tr>\n",
       "    <tr>\n",
       "      <th>1990</th>\n",
       "      <td>8.69617</td>\n",
       "      <td>6.613779</td>\n",
       "      <td>-2.082391</td>\n",
       "      <td>-0.507100</td>\n",
       "      <td>68.731459</td>\n",
       "    </tr>\n",
       "    <tr>\n",
       "      <th>1991</th>\n",
       "      <td>8.34352</td>\n",
       "      <td>7.159473</td>\n",
       "      <td>-1.184047</td>\n",
       "      <td>-0.510013</td>\n",
       "      <td>74.323179</td>\n",
       "    </tr>\n",
       "    <tr>\n",
       "      <th>1992</th>\n",
       "      <td>7.70271</td>\n",
       "      <td>7.346727</td>\n",
       "      <td>-0.355983</td>\n",
       "      <td>-0.512925</td>\n",
       "      <td>76.255984</td>\n",
       "    </tr>\n",
       "    <tr>\n",
       "      <th>1993</th>\n",
       "      <td>8.16630</td>\n",
       "      <td>7.603081</td>\n",
       "      <td>-0.563219</td>\n",
       "      <td>-0.515838</td>\n",
       "      <td>83.880190</td>\n",
       "    </tr>\n",
       "    <tr>\n",
       "      <th>1994</th>\n",
       "      <td>8.87703</td>\n",
       "      <td>6.460730</td>\n",
       "      <td>-2.416300</td>\n",
       "      <td>-0.518750</td>\n",
       "      <td>83.880190</td>\n",
       "    </tr>\n",
       "    <tr>\n",
       "      <th>1995</th>\n",
       "      <td>8.52986</td>\n",
       "      <td>6.544102</td>\n",
       "      <td>-1.985758</td>\n",
       "      <td>-0.521662</td>\n",
       "      <td>83.880190</td>\n",
       "    </tr>\n",
       "    <tr>\n",
       "      <th>1996</th>\n",
       "      <td>8.49671</td>\n",
       "      <td>6.864294</td>\n",
       "      <td>-1.632416</td>\n",
       "      <td>-0.524575</td>\n",
       "      <td>83.880190</td>\n",
       "    </tr>\n",
       "    <tr>\n",
       "      <th>1997</th>\n",
       "      <td>8.00521</td>\n",
       "      <td>6.191212</td>\n",
       "      <td>-1.813998</td>\n",
       "      <td>-0.527487</td>\n",
       "      <td>83.880190</td>\n",
       "    </tr>\n",
       "    <tr>\n",
       "      <th>1998</th>\n",
       "      <td>6.96603</td>\n",
       "      <td>6.966030</td>\n",
       "      <td>0.000000</td>\n",
       "      <td>-0.530400</td>\n",
       "      <td>83.880190</td>\n",
       "    </tr>\n",
       "  </tbody>\n",
       "</table>\n",
       "</div>"
      ],
      "text/plain": [
       "      Original  Reference      diff   linear1       RSS2\n",
       "year                                                    \n",
       "1956   7.72084   8.954734  1.233894 -0.408076  83.880190\n",
       "1957   8.17260   8.657428  0.484828 -0.410988  83.880190\n",
       "1958   9.59621   7.408128 -2.188082 -0.413901  83.880190\n",
       "1959   9.98493   6.888213 -3.096717 -0.416813  83.880190\n",
       "1960   9.48082   7.309415 -2.171405 -0.419726  83.880190\n",
       "1961   9.47640   7.147880 -2.328520 -0.422638  69.069289\n",
       "1962   9.19167   7.735464 -1.456206 -0.425551  65.072809\n",
       "1963   8.80165   7.839865 -0.961785 -0.428463  65.589113\n",
       "1964   9.11081   7.439848 -1.670962 -0.431376  66.940842\n",
       "1965   7.75566   7.895768  0.140108 -0.434288  62.479338\n",
       "1966   9.62110   7.231529 -2.389571 -0.437201  66.727436\n",
       "1967   9.11726   7.728613 -1.388647 -0.440113  56.561422\n",
       "1968   9.41743   7.297480 -2.119950 -0.443026  50.443690\n",
       "1969   6.98790   7.834467  0.846567 -0.445938  37.784390\n",
       "1970   6.91014   7.866330  0.956190 -0.448851  43.541466\n",
       "1971   6.82082   7.922118  1.101298 -0.451763  47.135663\n",
       "1972   6.55315   8.131599  1.578449 -0.454676  49.565512\n",
       "1973   6.55040   8.210860  1.660460 -0.457588  52.153302\n",
       "1974   6.31945   7.962333  1.642883 -0.460501  53.559802\n",
       "1975   6.57480   8.211843  1.637043 -0.463413  53.982191\n",
       "1976   6.65507   8.061578  1.406508 -0.466325  53.681821\n",
       "1977   7.14603   7.398569  0.252539 -0.469238  53.072917\n",
       "1978   6.96055   7.795826  0.835276 -0.472150  54.310027\n",
       "1979   7.43593   7.215645 -0.220285 -0.475063  54.368487\n",
       "1980   6.83425   7.974216  1.139966 -0.477975  56.606145\n",
       "1981   8.22278   7.309850 -0.912930 -0.480888  55.515213\n",
       "1982   8.10849   6.944468 -1.164022 -0.483800  59.473296\n",
       "1983   7.57781   7.179711 -0.398099 -0.486713  62.646776\n",
       "1984   6.78110   7.963129  1.182029 -0.489625  63.842083\n",
       "1985   7.02055   7.671802  0.651252 -0.492538  62.602707\n",
       "1986   7.38822   7.712529  0.324309 -0.495450  61.586965\n",
       "1987   7.92877   7.254565 -0.674205 -0.498363  60.700604\n",
       "1988   7.36740   7.509237  0.141837 -0.501275  62.975372\n",
       "1989   8.78137   6.564198 -2.217172 -0.504188  60.724435\n",
       "1990   8.69617   6.613779 -2.082391 -0.507100  68.731459\n",
       "1991   8.34352   7.159473 -1.184047 -0.510013  74.323179\n",
       "1992   7.70271   7.346727 -0.355983 -0.512925  76.255984\n",
       "1993   8.16630   7.603081 -0.563219 -0.515838  83.880190\n",
       "1994   8.87703   6.460730 -2.416300 -0.518750  83.880190\n",
       "1995   8.52986   6.544102 -1.985758 -0.521662  83.880190\n",
       "1996   8.49671   6.864294 -1.632416 -0.524575  83.880190\n",
       "1997   8.00521   6.191212 -1.813998 -0.527487  83.880190\n",
       "1998   6.96603   6.966030  0.000000 -0.530400  83.880190"
      ]
     },
     "execution_count": 17,
     "metadata": {},
     "output_type": "execute_result"
    }
   ],
   "source": [
    "OriRefDF"
   ]
  },
  {
   "cell_type": "code",
   "execution_count": null,
   "metadata": {},
   "outputs": [],
   "source": []
  }
 ],
 "metadata": {
  "kernelspec": {
   "display_name": "Python 3",
   "language": "python",
   "name": "python3"
  },
  "language_info": {
   "codemirror_mode": {
    "name": "ipython",
    "version": 3
   },
   "file_extension": ".py",
   "mimetype": "text/x-python",
   "name": "python",
   "nbconvert_exporter": "python",
   "pygments_lexer": "ipython3",
   "version": "3.6.4"
  }
 },
 "nbformat": 4,
 "nbformat_minor": 2
}
