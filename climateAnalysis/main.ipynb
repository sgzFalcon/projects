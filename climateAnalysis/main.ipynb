{
 "cells": [
  {
   "cell_type": "code",
   "execution_count": 1,
   "metadata": {},
   "outputs": [],
   "source": [
    "import pandas as pd\n",
    "import numpy as np\n",
    "import matplotlib.pyplot as plt\n",
    "import seaborn as sns\n",
    "import scipy.stats"
   ]
  },
  {
   "cell_type": "code",
   "execution_count": 2,
   "metadata": {},
   "outputs": [],
   "source": [
    "def solow(RSS1,RSS2,n):\n",
    "    return ((RSS1 - RSS2)/3)/(RSS2/(n-4)) > scipy.stats.f.ppf(0.95,3,n-4) #Alpha = 0.05\n",
    "def Ztest(X1, X2, sd1, sd2, n1, n2):\n",
    "    pooledSE = np.sqrt(sd1**2/n1 + sd2**2/n2)\n",
    "    z = (X1 - X2)/pooledSE\n",
    "    return np.abs(z) > np.abs(scipy.stats.norm.ppf(0.025)) #Bilateral test: Alpha = 0.05"
   ]
  },
  {
   "cell_type": "markdown",
   "metadata": {},
   "source": [
    "Load csv with stations' metadata so we can identify stations' ids:"
   ]
  },
  {
   "cell_type": "code",
   "execution_count": 3,
   "metadata": {},
   "outputs": [
    {
     "data": {
      "text/html": [
       "<div>\n",
       "<style scoped>\n",
       "    .dataframe tbody tr th:only-of-type {\n",
       "        vertical-align: middle;\n",
       "    }\n",
       "\n",
       "    .dataframe tbody tr th {\n",
       "        vertical-align: top;\n",
       "    }\n",
       "\n",
       "    .dataframe thead th {\n",
       "        text-align: right;\n",
       "    }\n",
       "</style>\n",
       "<table border=\"1\" class=\"dataframe\">\n",
       "  <thead>\n",
       "    <tr style=\"text-align: right;\">\n",
       "      <th></th>\n",
       "      <th>province</th>\n",
       "      <th>id</th>\n",
       "      <th>name</th>\n",
       "      <th>longitude</th>\n",
       "      <th>latitude</th>\n",
       "      <th>height</th>\n",
       "    </tr>\n",
       "  </thead>\n",
       "  <tbody>\n",
       "    <tr>\n",
       "      <th>0</th>\n",
       "      <td>BARCELONA</td>\n",
       "      <td>1203</td>\n",
       "      <td>BALENYA</td>\n",
       "      <td>2.26</td>\n",
       "      <td>41.85</td>\n",
       "      <td>570</td>\n",
       "    </tr>\n",
       "    <tr>\n",
       "      <th>1</th>\n",
       "      <td>BURGOS</td>\n",
       "      <td>9069</td>\n",
       "      <td>MIRANDA DE EBRO</td>\n",
       "      <td>-2.96</td>\n",
       "      <td>42.68</td>\n",
       "      <td>520</td>\n",
       "    </tr>\n",
       "    <tr>\n",
       "      <th>2</th>\n",
       "      <td>HUESCA</td>\n",
       "      <td>9489</td>\n",
       "      <td>LA SOTONERA EMBALSE</td>\n",
       "      <td>-0.67</td>\n",
       "      <td>42.11</td>\n",
       "      <td>413</td>\n",
       "    </tr>\n",
       "    <tr>\n",
       "      <th>3</th>\n",
       "      <td>NAVARRA</td>\n",
       "      <td>9269</td>\n",
       "      <td>ALSASUA</td>\n",
       "      <td>-2.18</td>\n",
       "      <td>42.89</td>\n",
       "      <td>525</td>\n",
       "    </tr>\n",
       "    <tr>\n",
       "      <th>4</th>\n",
       "      <td>NAVARRA</td>\n",
       "      <td>9301</td>\n",
       "      <td>MONTEAGUDO</td>\n",
       "      <td>-1.69</td>\n",
       "      <td>41.96</td>\n",
       "      <td>410</td>\n",
       "    </tr>\n",
       "    <tr>\n",
       "      <th>5</th>\n",
       "      <td>SORIA</td>\n",
       "      <td>2030</td>\n",
       "      <td>SORIA 'OBSERVATORIO'</td>\n",
       "      <td>-2.48</td>\n",
       "      <td>41.77</td>\n",
       "      <td>1082</td>\n",
       "    </tr>\n",
       "    <tr>\n",
       "      <th>6</th>\n",
       "      <td>SORIA</td>\n",
       "      <td>2085</td>\n",
       "      <td>EL BURGO DE OSMA</td>\n",
       "      <td>-3.07</td>\n",
       "      <td>41.59</td>\n",
       "      <td>895</td>\n",
       "    </tr>\n",
       "    <tr>\n",
       "      <th>7</th>\n",
       "      <td>TARRAGONA</td>\n",
       "      <td>1017</td>\n",
       "      <td>VILASECA</td>\n",
       "      <td>1.15</td>\n",
       "      <td>41.11</td>\n",
       "      <td>53</td>\n",
       "    </tr>\n",
       "    <tr>\n",
       "      <th>8</th>\n",
       "      <td>TARRAGONA</td>\n",
       "      <td>9971</td>\n",
       "      <td>TIVISSA</td>\n",
       "      <td>0.73</td>\n",
       "      <td>41.04</td>\n",
       "      <td>310</td>\n",
       "    </tr>\n",
       "    <tr>\n",
       "      <th>9</th>\n",
       "      <td>ZARAGOZA</td>\n",
       "      <td>9390</td>\n",
       "      <td>DAROCA OBSERVATORIO</td>\n",
       "      <td>-1.41</td>\n",
       "      <td>41.11</td>\n",
       "      <td>779</td>\n",
       "    </tr>\n",
       "    <tr>\n",
       "      <th>10</th>\n",
       "      <td>ZARAGOZA</td>\n",
       "      <td>9523</td>\n",
       "      <td>ESCATRON</td>\n",
       "      <td>-0.35</td>\n",
       "      <td>41.30</td>\n",
       "      <td>143</td>\n",
       "    </tr>\n",
       "    <tr>\n",
       "      <th>11</th>\n",
       "      <td>ZARAGOZA</td>\n",
       "      <td>9371</td>\n",
       "      <td>TERRER AZUCARERA</td>\n",
       "      <td>-1.71</td>\n",
       "      <td>41.33</td>\n",
       "      <td>570</td>\n",
       "    </tr>\n",
       "  </tbody>\n",
       "</table>\n",
       "</div>"
      ],
      "text/plain": [
       "      province    id                    name  longitude  latitude  height\n",
       "0   BARCELONA   1203                BALENYA        2.26     41.85     570\n",
       "1      BURGOS   9069        MIRANDA DE EBRO       -2.96     42.68     520\n",
       "2      HUESCA   9489    LA SOTONERA EMBALSE       -0.67     42.11     413\n",
       "3     NAVARRA   9269                ALSASUA       -2.18     42.89     525\n",
       "4     NAVARRA   9301             MONTEAGUDO       -1.69     41.96     410\n",
       "5       SORIA   2030   SORIA 'OBSERVATORIO'       -2.48     41.77    1082\n",
       "6       SORIA   2085       EL BURGO DE OSMA       -3.07     41.59     895\n",
       "7   TARRAGONA   1017               VILASECA        1.15     41.11      53\n",
       "8   TARRAGONA   9971                TIVISSA        0.73     41.04     310\n",
       "9    ZARAGOZA   9390    DAROCA OBSERVATORIO       -1.41     41.11     779\n",
       "10   ZARAGOZA   9523               ESCATRON       -0.35     41.30     143\n",
       "11   ZARAGOZA   9371       TERRER AZUCARERA       -1.71     41.33     570"
      ]
     },
     "execution_count": 3,
     "metadata": {},
     "output_type": "execute_result"
    }
   ],
   "source": [
    "col_stations = ['province','id','name','longitude','latitude','height','unknown']\n",
    "stationsID = pd.read_csv('data\\ESTACIONES.txt', sep=';', header=None, names=col_stations).drop(columns='unknown')\n",
    "stationsID"
   ]
  },
  {
   "cell_type": "markdown",
   "metadata": {},
   "source": [
    "Now we read climate data from different stations into a dictionary and then merge into one Data Frame:"
   ]
  },
  {
   "cell_type": "code",
   "execution_count": 4,
   "metadata": {},
   "outputs": [
    {
     "data": {
      "text/html": [
       "<div>\n",
       "<style scoped>\n",
       "    .dataframe tbody tr th:only-of-type {\n",
       "        vertical-align: middle;\n",
       "    }\n",
       "\n",
       "    .dataframe tbody tr th {\n",
       "        vertical-align: top;\n",
       "    }\n",
       "\n",
       "    .dataframe thead th {\n",
       "        text-align: right;\n",
       "    }\n",
       "</style>\n",
       "<table border=\"1\" class=\"dataframe\">\n",
       "  <thead>\n",
       "    <tr style=\"text-align: right;\">\n",
       "      <th></th>\n",
       "      <th>1203</th>\n",
       "      <th>9069</th>\n",
       "      <th>9489</th>\n",
       "      <th>9269</th>\n",
       "      <th>9301</th>\n",
       "      <th>2030</th>\n",
       "      <th>2085</th>\n",
       "      <th>1017</th>\n",
       "      <th>9971</th>\n",
       "      <th>9390</th>\n",
       "      <th>9523</th>\n",
       "      <th>9371</th>\n",
       "    </tr>\n",
       "    <tr>\n",
       "      <th>year</th>\n",
       "      <th></th>\n",
       "      <th></th>\n",
       "      <th></th>\n",
       "      <th></th>\n",
       "      <th></th>\n",
       "      <th></th>\n",
       "      <th></th>\n",
       "      <th></th>\n",
       "      <th></th>\n",
       "      <th></th>\n",
       "      <th></th>\n",
       "      <th></th>\n",
       "    </tr>\n",
       "  </thead>\n",
       "  <tbody>\n",
       "    <tr>\n",
       "      <th>1956</th>\n",
       "      <td>5.56123</td>\n",
       "      <td>7.92211</td>\n",
       "      <td>7.72084</td>\n",
       "      <td>6.19617</td>\n",
       "      <td>5.82826</td>\n",
       "      <td>1.32384</td>\n",
       "      <td>1.73872</td>\n",
       "      <td>10.1185</td>\n",
       "      <td>8.16141</td>\n",
       "      <td>6.61261</td>\n",
       "      <td>7.91825</td>\n",
       "      <td>4.61540</td>\n",
       "    </tr>\n",
       "    <tr>\n",
       "      <th>1957</th>\n",
       "      <td>4.98041</td>\n",
       "      <td>8.63398</td>\n",
       "      <td>8.17260</td>\n",
       "      <td>7.34303</td>\n",
       "      <td>6.66681</td>\n",
       "      <td>1.97370</td>\n",
       "      <td>1.15640</td>\n",
       "      <td>10.5183</td>\n",
       "      <td>8.58456</td>\n",
       "      <td>7.26526</td>\n",
       "      <td>8.30919</td>\n",
       "      <td>5.07892</td>\n",
       "    </tr>\n",
       "    <tr>\n",
       "      <th>1958</th>\n",
       "      <td>5.96169</td>\n",
       "      <td>9.97144</td>\n",
       "      <td>9.59621</td>\n",
       "      <td>7.55125</td>\n",
       "      <td>7.41064</td>\n",
       "      <td>3.44861</td>\n",
       "      <td>2.49214</td>\n",
       "      <td>11.9026</td>\n",
       "      <td>9.59260</td>\n",
       "      <td>8.51326</td>\n",
       "      <td>9.41647</td>\n",
       "      <td>6.30164</td>\n",
       "    </tr>\n",
       "    <tr>\n",
       "      <th>1959</th>\n",
       "      <td>6.51167</td>\n",
       "      <td>9.87581</td>\n",
       "      <td>9.98493</td>\n",
       "      <td>6.89783</td>\n",
       "      <td>7.44723</td>\n",
       "      <td>4.06046</td>\n",
       "      <td>4.53880</td>\n",
       "      <td>12.6202</td>\n",
       "      <td>9.76165</td>\n",
       "      <td>8.73918</td>\n",
       "      <td>9.45702</td>\n",
       "      <td>6.85304</td>\n",
       "    </tr>\n",
       "    <tr>\n",
       "      <th>1960</th>\n",
       "      <td>6.52788</td>\n",
       "      <td>9.61240</td>\n",
       "      <td>9.48082</td>\n",
       "      <td>6.62796</td>\n",
       "      <td>7.30628</td>\n",
       "      <td>3.24076</td>\n",
       "      <td>3.70945</td>\n",
       "      <td>11.9556</td>\n",
       "      <td>9.17480</td>\n",
       "      <td>8.52391</td>\n",
       "      <td>8.87280</td>\n",
       "      <td>6.26711</td>\n",
       "    </tr>\n",
       "  </tbody>\n",
       "</table>\n",
       "</div>"
      ],
      "text/plain": [
       "         1203     9069     9489     9269     9301     2030     2085     1017  \\\n",
       "year                                                                           \n",
       "1956  5.56123  7.92211  7.72084  6.19617  5.82826  1.32384  1.73872  10.1185   \n",
       "1957  4.98041  8.63398  8.17260  7.34303  6.66681  1.97370  1.15640  10.5183   \n",
       "1958  5.96169  9.97144  9.59621  7.55125  7.41064  3.44861  2.49214  11.9026   \n",
       "1959  6.51167  9.87581  9.98493  6.89783  7.44723  4.06046  4.53880  12.6202   \n",
       "1960  6.52788  9.61240  9.48082  6.62796  7.30628  3.24076  3.70945  11.9556   \n",
       "\n",
       "         9971     9390     9523     9371  \n",
       "year                                      \n",
       "1956  8.16141  6.61261  7.91825  4.61540  \n",
       "1957  8.58456  7.26526  8.30919  5.07892  \n",
       "1958  9.59260  8.51326  9.41647  6.30164  \n",
       "1959  9.76165  8.73918  9.45702  6.85304  \n",
       "1960  9.17480  8.52391  8.87280  6.26711  "
      ]
     },
     "execution_count": 4,
     "metadata": {},
     "output_type": "execute_result"
    }
   ],
   "source": [
    "#col_station = ['year','temperature']\n",
    "station = {}\n",
    "for id in stationsID['id'].iteritems():\n",
    "    station[str(id[1])] = pd.read_csv('data/Tmin_'+str(id[1])+'_filled_annual_means.txt', sep='    ',\n",
    "                                      header=None, names=['year',str(id[1])], engine='python').set_index('year')\n",
    "stations = pd.concat(station.values(),axis=1)\n",
    "stations.head()"
   ]
  },
  {
   "cell_type": "markdown",
   "metadata": {},
   "source": [
    "Now we choose the origin or studied station:"
   ]
  },
  {
   "cell_type": "code",
   "execution_count": 5,
   "metadata": {},
   "outputs": [
    {
     "data": {
      "image/png": "[encoded data removed]",
      "text/plain": [
       "<matplotlib.figure.Figure at 0x15d5f98be10>"
      ]
     },
     "metadata": {},
     "output_type": "display_data"
    }
   ],
   "source": [
    "origin = '2030'\n",
    "stations[origin].plot.line(ylim=(4,12))\n",
    "oriSeries = stations[origin]"
   ]
  },
  {
   "cell_type": "markdown",
   "metadata": {},
   "source": [
    "Then we have to calculate the difference between years so discontinuities in other series lose weight"
   ]
  },
  {
   "cell_type": "code",
   "execution_count": 6,
   "metadata": {},
   "outputs": [
    {
     "data": {
      "text/html": [
       "<div>\n",
       "<style scoped>\n",
       "    .dataframe tbody tr th:only-of-type {\n",
       "        vertical-align: middle;\n",
       "    }\n",
       "\n",
       "    .dataframe tbody tr th {\n",
       "        vertical-align: top;\n",
       "    }\n",
       "\n",
       "    .dataframe thead th {\n",
       "        text-align: right;\n",
       "    }\n",
       "</style>\n",
       "<table border=\"1\" class=\"dataframe\">\n",
       "  <thead>\n",
       "    <tr style=\"text-align: right;\">\n",
       "      <th></th>\n",
       "      <th>1203</th>\n",
       "      <th>9069</th>\n",
       "      <th>9489</th>\n",
       "      <th>9269</th>\n",
       "      <th>9301</th>\n",
       "      <th>2030</th>\n",
       "      <th>2085</th>\n",
       "      <th>1017</th>\n",
       "      <th>9971</th>\n",
       "      <th>9390</th>\n",
       "      <th>9523</th>\n",
       "      <th>9371</th>\n",
       "    </tr>\n",
       "    <tr>\n",
       "      <th>year</th>\n",
       "      <th></th>\n",
       "      <th></th>\n",
       "      <th></th>\n",
       "      <th></th>\n",
       "      <th></th>\n",
       "      <th></th>\n",
       "      <th></th>\n",
       "      <th></th>\n",
       "      <th></th>\n",
       "      <th></th>\n",
       "      <th></th>\n",
       "      <th></th>\n",
       "    </tr>\n",
       "  </thead>\n",
       "  <tbody>\n",
       "    <tr>\n",
       "      <th>1956</th>\n",
       "      <td>-0.58082</td>\n",
       "      <td>0.71187</td>\n",
       "      <td>0.45176</td>\n",
       "      <td>1.14686</td>\n",
       "      <td>0.83855</td>\n",
       "      <td>0.64986</td>\n",
       "      <td>-0.58232</td>\n",
       "      <td>0.3998</td>\n",
       "      <td>0.42315</td>\n",
       "      <td>0.65265</td>\n",
       "      <td>0.39094</td>\n",
       "      <td>0.46352</td>\n",
       "    </tr>\n",
       "    <tr>\n",
       "      <th>1957</th>\n",
       "      <td>0.98128</td>\n",
       "      <td>1.33746</td>\n",
       "      <td>1.42361</td>\n",
       "      <td>0.20822</td>\n",
       "      <td>0.74383</td>\n",
       "      <td>1.47491</td>\n",
       "      <td>1.33574</td>\n",
       "      <td>1.3843</td>\n",
       "      <td>1.00804</td>\n",
       "      <td>1.24800</td>\n",
       "      <td>1.10728</td>\n",
       "      <td>1.22272</td>\n",
       "    </tr>\n",
       "    <tr>\n",
       "      <th>1958</th>\n",
       "      <td>0.54998</td>\n",
       "      <td>-0.09563</td>\n",
       "      <td>0.38872</td>\n",
       "      <td>-0.65342</td>\n",
       "      <td>0.03659</td>\n",
       "      <td>0.61185</td>\n",
       "      <td>2.04666</td>\n",
       "      <td>0.7176</td>\n",
       "      <td>0.16905</td>\n",
       "      <td>0.22592</td>\n",
       "      <td>0.04055</td>\n",
       "      <td>0.55140</td>\n",
       "    </tr>\n",
       "    <tr>\n",
       "      <th>1959</th>\n",
       "      <td>0.01621</td>\n",
       "      <td>-0.26341</td>\n",
       "      <td>-0.50411</td>\n",
       "      <td>-0.26987</td>\n",
       "      <td>-0.14095</td>\n",
       "      <td>-0.81970</td>\n",
       "      <td>-0.82935</td>\n",
       "      <td>-0.6646</td>\n",
       "      <td>-0.58685</td>\n",
       "      <td>-0.21527</td>\n",
       "      <td>-0.58422</td>\n",
       "      <td>-0.58593</td>\n",
       "    </tr>\n",
       "    <tr>\n",
       "      <th>1960</th>\n",
       "      <td>-0.03555</td>\n",
       "      <td>0.13638</td>\n",
       "      <td>-0.00442</td>\n",
       "      <td>-0.16148</td>\n",
       "      <td>0.16299</td>\n",
       "      <td>0.18554</td>\n",
       "      <td>0.41630</td>\n",
       "      <td>0.3034</td>\n",
       "      <td>0.38831</td>\n",
       "      <td>-0.02364</td>\n",
       "      <td>0.03163</td>\n",
       "      <td>0.43891</td>\n",
       "    </tr>\n",
       "  </tbody>\n",
       "</table>\n",
       "</div>"
      ],
      "text/plain": [
       "         1203     9069     9489     9269     9301     2030     2085    1017  \\\n",
       "year                                                                          \n",
       "1956 -0.58082  0.71187  0.45176  1.14686  0.83855  0.64986 -0.58232  0.3998   \n",
       "1957  0.98128  1.33746  1.42361  0.20822  0.74383  1.47491  1.33574  1.3843   \n",
       "1958  0.54998 -0.09563  0.38872 -0.65342  0.03659  0.61185  2.04666  0.7176   \n",
       "1959  0.01621 -0.26341 -0.50411 -0.26987 -0.14095 -0.81970 -0.82935 -0.6646   \n",
       "1960 -0.03555  0.13638 -0.00442 -0.16148  0.16299  0.18554  0.41630  0.3034   \n",
       "\n",
       "         9971     9390     9523     9371  \n",
       "year                                      \n",
       "1956  0.42315  0.65265  0.39094  0.46352  \n",
       "1957  1.00804  1.24800  1.10728  1.22272  \n",
       "1958  0.16905  0.22592  0.04055  0.55140  \n",
       "1959 -0.58685 -0.21527 -0.58422 -0.58593  \n",
       "1960  0.38831 -0.02364  0.03163  0.43891  "
      ]
     },
     "execution_count": 6,
     "metadata": {},
     "output_type": "execute_result"
    }
   ],
   "source": [
    "ydiff ={}\n",
    "for col in stations.columns[:]:\n",
    "    ydiff[col] = stations[col].shift(-1)-stations[col]\n",
    "yearDiff = pd.concat(ydiff.values(), axis=1).drop(1998)\n",
    "yearDiff.head()"
   ]
  },
  {
   "cell_type": "code",
   "execution_count": 7,
   "metadata": {},
   "outputs": [
    {
     "data": {
      "text/plain": [
       "<matplotlib.axes._subplots.AxesSubplot at 0x15d5fa08240>"
      ]
     },
     "execution_count": 7,
     "metadata": {},
     "output_type": "execute_result"
    },
    {
     "data": {
      "image/png": "[encoded data removed]",
      "text/plain": [
       "<matplotlib.figure.Figure at 0x15d61aa2c18>"
      ]
     },
     "metadata": {},
     "output_type": "display_data"
    }
   ],
   "source": [
    "yearDiff[origin].plot.line()"
   ]
  },
  {
   "cell_type": "markdown",
   "metadata": {},
   "source": [
    "At this point we can look for the stations with the best correlation in the year difference and took the first five:"
   ]
  },
  {
   "cell_type": "code",
   "execution_count": 8,
   "metadata": {},
   "outputs": [
    {
     "data": {
      "text/html": [
       "<div>\n",
       "<style scoped>\n",
       "    .dataframe tbody tr th:only-of-type {\n",
       "        vertical-align: middle;\n",
       "    }\n",
       "\n",
       "    .dataframe tbody tr th {\n",
       "        vertical-align: top;\n",
       "    }\n",
       "\n",
       "    .dataframe thead th {\n",
       "        text-align: right;\n",
       "    }\n",
       "</style>\n",
       "<table border=\"1\" class=\"dataframe\">\n",
       "  <thead>\n",
       "    <tr style=\"text-align: right;\">\n",
       "      <th></th>\n",
       "      <th>corrCoef</th>\n",
       "      <th>corrCoef2</th>\n",
       "    </tr>\n",
       "  </thead>\n",
       "  <tbody>\n",
       "    <tr>\n",
       "      <th>9390</th>\n",
       "      <td>0.744718</td>\n",
       "      <td>0.554605</td>\n",
       "    </tr>\n",
       "    <tr>\n",
       "      <th>1017</th>\n",
       "      <td>0.692712</td>\n",
       "      <td>0.479850</td>\n",
       "    </tr>\n",
       "    <tr>\n",
       "      <th>9371</th>\n",
       "      <td>0.684540</td>\n",
       "      <td>0.468595</td>\n",
       "    </tr>\n",
       "    <tr>\n",
       "      <th>9971</th>\n",
       "      <td>0.633948</td>\n",
       "      <td>0.401890</td>\n",
       "    </tr>\n",
       "    <tr>\n",
       "      <th>9523</th>\n",
       "      <td>0.619513</td>\n",
       "      <td>0.383796</td>\n",
       "    </tr>\n",
       "  </tbody>\n",
       "</table>\n",
       "</div>"
      ],
      "text/plain": [
       "      corrCoef  corrCoef2\n",
       "9390  0.744718   0.554605\n",
       "1017  0.692712   0.479850\n",
       "9371  0.684540   0.468595\n",
       "9971  0.633948   0.401890\n",
       "9523  0.619513   0.383796"
      ]
     },
     "execution_count": 8,
     "metadata": {},
     "output_type": "execute_result"
    }
   ],
   "source": [
    "correlations = yearDiff.corr(method='pearson')\n",
    "bestSts = correlations[origin][correlations[origin] > 0.35].drop(origin).sort_values(ascending=False).head(5) \\\n",
    "            .to_frame(name='corrCoef') #drops origin index with corr = 1\n",
    "bestSts['corrCoef2'] = bestSts['corrCoef']**2\n",
    "bestSts"
   ]
  },
  {
   "cell_type": "markdown",
   "metadata": {},
   "source": [
    "Create a reference series with the five stations, weighted with R<sup>2</sup> "
   ]
  },
  {
   "cell_type": "code",
   "execution_count": 9,
   "metadata": {},
   "outputs": [],
   "source": [
    "refDict = {}\n",
    "for index in bestSts.index:\n",
    "    refDict[index] = yearDiff[index]*bestSts['corrCoef2'].loc[index]\n",
    "refSeriesDiff = pd.concat(refDict.values(), axis=1).sum(axis=1)/bestSts['corrCoef2'].sum()"
   ]
  },
  {
   "cell_type": "markdown",
   "metadata": {},
   "source": [
    "Taking the most recent data in the original station as valid we apply the annual difference"
   ]
  },
  {
   "cell_type": "code",
   "execution_count": 10,
   "metadata": {},
   "outputs": [],
   "source": [
    "refSeries = oriSeries.copy()\n",
    "for i,diff in enumerate(refSeriesDiff.sort_index(ascending=False).tolist()):\n",
    "    refSeries.loc[1998-(i+1)] = refSeries.loc[1998-i]-diff\n",
    "refSeries = refSeries.sort_index()"
   ]
  },
  {
   "cell_type": "code",
   "execution_count": 11,
   "metadata": {},
   "outputs": [
    {
     "data": {
      "text/plain": [
       "<matplotlib.axes._subplots.AxesSubplot at 0x15d61af3e10>"
      ]
     },
     "execution_count": 11,
     "metadata": {},
     "output_type": "execute_result"
    },
    {
     "data": {
      "image/png": "[encoded data removed]",
      "text/plain": [
       "<matplotlib.figure.Figure at 0x15d61ad05c0>"
      ]
     },
     "metadata": {},
     "output_type": "display_data"
    }
   ],
   "source": [
    "OriRefDF = pd.concat({'Reference':refSeries, 'Original':oriSeries}, axis=1)\n",
    "OriRefDF.plot.line(ylim=(4,12))"
   ]
  },
  {
   "cell_type": "markdown",
   "metadata": {},
   "source": [
    "Add a third column of the difference between reference and original series"
   ]
  },
  {
   "cell_type": "code",
   "execution_count": 12,
   "metadata": {},
   "outputs": [
    {
     "data": {
      "text/plain": [
       "<matplotlib.axes._subplots.AxesSubplot at 0x15d61af34a8>"
      ]
     },
     "execution_count": 12,
     "metadata": {},
     "output_type": "execute_result"
    },
    {
     "data": {
      "image/png": "[encoded data removed]",
      "text/plain": [
       "<matplotlib.figure.Figure at 0x15d61b237b8>"
      ]
     },
     "metadata": {},
     "output_type": "display_data"
    }
   ],
   "source": [
    "OriRefDF['diff']=OriRefDF['Reference'] - OriRefDF['Original']\n",
    "OriRefDF['diff'].plot.line()"
   ]
  },
  {
   "cell_type": "code",
   "execution_count": 13,
   "metadata": {},
   "outputs": [
    {
     "data": {
      "text/plain": [
       "<matplotlib.axes._subplots.AxesSubplot at 0x15d62bbd860>"
      ]
     },
     "execution_count": 13,
     "metadata": {},
     "output_type": "execute_result"
    },
    {
     "data": {
      "image/png": "[encoded data removed]",
      "text/plain": [
       "<matplotlib.figure.Figure at 0x15d62bb44a8>"
      ]
     },
     "metadata": {},
     "output_type": "display_data"
    }
   ],
   "source": [
    "coef1, RSS1, _, _, _ = np.polyfit(OriRefDF.index,OriRefDF['diff'],1,full=True)\n",
    "linear_reg1 = np.poly1d(coef1)\n",
    "RSS1 = RSS1[0] #Maybe it would be better to plot the data without adding it to the DF\n",
    "OriRefDF['linear1'] = np.NAN\n",
    "for index in OriRefDF.index:\n",
    "    OriRefDF['linear1'].loc[index] = linear_reg1(index)\n",
    "OriRefDF[['diff','linear1']].plot.line()"
   ]
  },
  {
   "cell_type": "markdown",
   "metadata": {},
   "source": [
    "We have to divide the series in two series so we can look for discontinuities"
   ]
  },
  {
   "cell_type": "code",
   "execution_count": 14,
   "metadata": {},
   "outputs": [
    {
     "data": {
      "text/plain": [
       "[<matplotlib.lines.Line2D at 0x15d62c819b0>,\n",
       " <matplotlib.lines.Line2D at 0x15d62c81908>,\n",
       " <matplotlib.lines.Line2D at 0x15d62c81eb8>]"
      ]
     },
     "execution_count": 14,
     "metadata": {},
     "output_type": "execute_result"
    },
    {
     "data": {
      "image/png": "[encoded data removed]",
      "text/plain": [
       "<matplotlib.figure.Figure at 0x15d61aa24e0>"
      ]
     },
     "metadata": {},
     "output_type": "display_data"
    }
   ],
   "source": [
    "OriRefDF['RSS2'] = RSS1\n",
    "for point in range(5,37):\n",
    "    sub1 = OriRefDF['diff'].iloc[:point]\n",
    "    sub2 = OriRefDF['diff'].iloc[point:]\n",
    "    subcoef1, RSSs1,_,_,_ = np.polyfit(OriRefDF.index[:point],sub1,1,full=True)\n",
    "    #sublinear_reg1 = np.poly1d(subcoef1)\n",
    "    subcoef2, RSSs2,_,_,_ = np.polyfit(OriRefDF.index[point:],sub2,1,full=True)\n",
    "    #sublinear_reg1 = np.poly1d(subcoef2)\n",
    "    OriRefDF['RSS2'].iloc[point] = RSSs1[0] + RSSs2[0]\n",
    "point = OriRefDF.index.get_loc(OriRefDF['RSS2'].idxmin())\n",
    "RSS2 = OriRefDF['RSS2'].min()\n",
    "subyear1 = OriRefDF.index[:point]\n",
    "subyear2 = OriRefDF.index[point:]\n",
    "subcoef1 = np.polyfit(subyear1,OriRefDF['diff'].iloc[:point],1)\n",
    "subcoef2 = np.polyfit(subyear2,OriRefDF['diff'].iloc[point:],1)\n",
    "sublinear_reg1 = np.poly1d(subcoef1)\n",
    "sublinear_reg2 = np.poly1d(subcoef2)\n",
    "plt.plot(subyear1,sublinear_reg1(subyear1),subyear2, sublinear_reg2(subyear2), OriRefDF.index, OriRefDF['diff'])"
   ]
  },
  {
   "cell_type": "markdown",
   "metadata": {},
   "source": [
    "Now we know the year with minimum RSS2 so we ckeck in with an F-Test"
   ]
  },
  {
   "cell_type": "code",
   "execution_count": 15,
   "metadata": {},
   "outputs": [
    {
     "data": {
      "text/plain": [
       "True"
      ]
     },
     "execution_count": 15,
     "metadata": {},
     "output_type": "execute_result"
    }
   ],
   "source": [
    "solow(RSS1,RSS2,42)"
   ]
  },
  {
   "cell_type": "markdown",
   "metadata": {},
   "source": [
    "Perform a Z-Test will stablish if it is a real discontinuity"
   ]
  },
  {
   "cell_type": "code",
   "execution_count": 16,
   "metadata": {},
   "outputs": [
    {
     "data": {
      "text/plain": [
       "True"
      ]
     },
     "execution_count": 16,
     "metadata": {},
     "output_type": "execute_result"
    }
   ],
   "source": [
    "sub1 = OriRefDF['diff'].iloc[:point]\n",
    "sub2 = OriRefDF['diff'].iloc[point:]\n",
    "Ztest(np.mean(sub1),np.mean(sub2),np.std(sub1),np.std(sub2),len(sub1),len(sub2))"
   ]
  },
  {
   "cell_type": "code",
   "execution_count": 17,
   "metadata": {},
   "outputs": [
    {
     "data": {
      "text/plain": [
       "2.8517413363298987"
      ]
     },
     "execution_count": 17,
     "metadata": {},
     "output_type": "execute_result"
    }
   ],
   "source": [
    "scipy.stats.f.ppf(0.95,3,38)"
   ]
  },
  {
   "cell_type": "code",
   "execution_count": 19,
   "metadata": {},
   "outputs": [
    {
     "data": {
      "text/plain": [
       "<matplotlib.legend.Legend at 0x15d62c0f588>"
      ]
     },
     "execution_count": 19,
     "metadata": {},
     "output_type": "execute_result"
    },
    {
     "data": {
      "image/png": "[encoded data removed]",
      "text/plain": [
       "<matplotlib.figure.Figure at 0x15d62c6ea58>"
      ]
     },
     "metadata": {},
     "output_type": "display_data"
    }
   ],
   "source": [
    "OriRefDF['Fixed']=OriRefDF['Original']\n",
    "meanB = OriRefDF['diff'].iloc[:point].mean()\n",
    "meanA = OriRefDF['diff'].iloc[point:].mean()\n",
    "OriRefDF['Fixed'].iloc[:point] = OriRefDF['Fixed'].iloc[:point] + meanB - meanA\n",
    "plt.plot(OriRefDF.index,OriRefDF['Original'],OriRefDF.index,OriRefDF['Reference'],OriRefDF.index,OriRefDF['Fixed'])\n",
    "plt.legend(['Original','Reference','Fixed'])"
   ]
  },
  {
   "cell_type": "code",
   "execution_count": null,
   "metadata": {},
   "outputs": [],
   "source": []
  }
 ],
 "metadata": {
  "kernelspec": {
   "display_name": "Python 3",
   "language": "python",
   "name": "python3"
  },
  "language_info": {
   "codemirror_mode": {
    "name": "ipython",
    "version": 3
   },
   "file_extension": ".py",
   "mimetype": "text/x-python",
   "name": "python",
   "nbconvert_exporter": "python",
   "pygments_lexer": "ipython3",
   "version": "3.6.4"
  }
 },
 "nbformat": 4,
 "nbformat_minor": 2
}
