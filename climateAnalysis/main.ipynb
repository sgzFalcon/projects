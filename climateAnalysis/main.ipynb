{
 "cells": [
  {
   "cell_type": "code",
   "execution_count": 1,
   "metadata": {},
   "outputs": [],
   "source": [
    "import pandas as pd\n",
    "import numpy as np\n",
    "import matplotlib.pyplot as plt\n",
    "import seaborn as sns"
   ]
  },
  {
   "cell_type": "markdown",
   "metadata": {},
   "source": [
    "Load csv with stations' metadata so we can identify stations' ids:"
   ]
  },
  {
   "cell_type": "code",
   "execution_count": 2,
   "metadata": {},
   "outputs": [
    {
     "data": {
      "text/html": [
       "<div>\n",
       "<style scoped>\n",
       "    .dataframe tbody tr th:only-of-type {\n",
       "        vertical-align: middle;\n",
       "    }\n",
       "\n",
       "    .dataframe tbody tr th {\n",
       "        vertical-align: top;\n",
       "    }\n",
       "\n",
       "    .dataframe thead th {\n",
       "        text-align: right;\n",
       "    }\n",
       "</style>\n",
       "<table border=\"1\" class=\"dataframe\">\n",
       "  <thead>\n",
       "    <tr style=\"text-align: right;\">\n",
       "      <th></th>\n",
       "      <th>province</th>\n",
       "      <th>id</th>\n",
       "      <th>name</th>\n",
       "      <th>longitude</th>\n",
       "      <th>latitude</th>\n",
       "      <th>height</th>\n",
       "    </tr>\n",
       "  </thead>\n",
       "  <tbody>\n",
       "    <tr>\n",
       "      <th>0</th>\n",
       "      <td>BARCELONA</td>\n",
       "      <td>1203</td>\n",
       "      <td>BALENYA</td>\n",
       "      <td>2.26</td>\n",
       "      <td>41.85</td>\n",
       "      <td>570</td>\n",
       "    </tr>\n",
       "    <tr>\n",
       "      <th>1</th>\n",
       "      <td>BURGOS</td>\n",
       "      <td>9069</td>\n",
       "      <td>MIRANDA DE EBRO</td>\n",
       "      <td>-2.96</td>\n",
       "      <td>42.68</td>\n",
       "      <td>520</td>\n",
       "    </tr>\n",
       "    <tr>\n",
       "      <th>2</th>\n",
       "      <td>HUESCA</td>\n",
       "      <td>9489</td>\n",
       "      <td>LA SOTONERA EMBALSE</td>\n",
       "      <td>-0.67</td>\n",
       "      <td>42.11</td>\n",
       "      <td>413</td>\n",
       "    </tr>\n",
       "    <tr>\n",
       "      <th>3</th>\n",
       "      <td>NAVARRA</td>\n",
       "      <td>9269</td>\n",
       "      <td>ALSASUA</td>\n",
       "      <td>-2.18</td>\n",
       "      <td>42.89</td>\n",
       "      <td>525</td>\n",
       "    </tr>\n",
       "    <tr>\n",
       "      <th>4</th>\n",
       "      <td>NAVARRA</td>\n",
       "      <td>9301</td>\n",
       "      <td>MONTEAGUDO</td>\n",
       "      <td>-1.69</td>\n",
       "      <td>41.96</td>\n",
       "      <td>410</td>\n",
       "    </tr>\n",
       "    <tr>\n",
       "      <th>5</th>\n",
       "      <td>SORIA</td>\n",
       "      <td>2030</td>\n",
       "      <td>SORIA 'OBSERVATORIO'</td>\n",
       "      <td>-2.48</td>\n",
       "      <td>41.77</td>\n",
       "      <td>1082</td>\n",
       "    </tr>\n",
       "    <tr>\n",
       "      <th>6</th>\n",
       "      <td>SORIA</td>\n",
       "      <td>2085</td>\n",
       "      <td>EL BURGO DE OSMA</td>\n",
       "      <td>-3.07</td>\n",
       "      <td>41.59</td>\n",
       "      <td>895</td>\n",
       "    </tr>\n",
       "    <tr>\n",
       "      <th>7</th>\n",
       "      <td>TARRAGONA</td>\n",
       "      <td>1017</td>\n",
       "      <td>VILASECA</td>\n",
       "      <td>1.15</td>\n",
       "      <td>41.11</td>\n",
       "      <td>53</td>\n",
       "    </tr>\n",
       "    <tr>\n",
       "      <th>8</th>\n",
       "      <td>TARRAGONA</td>\n",
       "      <td>9971</td>\n",
       "      <td>TIVISSA</td>\n",
       "      <td>0.73</td>\n",
       "      <td>41.04</td>\n",
       "      <td>310</td>\n",
       "    </tr>\n",
       "    <tr>\n",
       "      <th>9</th>\n",
       "      <td>ZARAGOZA</td>\n",
       "      <td>9390</td>\n",
       "      <td>DAROCA OBSERVATORIO</td>\n",
       "      <td>-1.41</td>\n",
       "      <td>41.11</td>\n",
       "      <td>779</td>\n",
       "    </tr>\n",
       "    <tr>\n",
       "      <th>10</th>\n",
       "      <td>ZARAGOZA</td>\n",
       "      <td>9523</td>\n",
       "      <td>ESCATRON</td>\n",
       "      <td>-0.35</td>\n",
       "      <td>41.30</td>\n",
       "      <td>143</td>\n",
       "    </tr>\n",
       "    <tr>\n",
       "      <th>11</th>\n",
       "      <td>ZARAGOZA</td>\n",
       "      <td>9371</td>\n",
       "      <td>TERRER AZUCARERA</td>\n",
       "      <td>-1.71</td>\n",
       "      <td>41.33</td>\n",
       "      <td>570</td>\n",
       "    </tr>\n",
       "  </tbody>\n",
       "</table>\n",
       "</div>"
      ],
      "text/plain": [
       "      province    id                    name  longitude  latitude  height\n",
       "0   BARCELONA   1203                BALENYA        2.26     41.85     570\n",
       "1      BURGOS   9069        MIRANDA DE EBRO       -2.96     42.68     520\n",
       "2      HUESCA   9489    LA SOTONERA EMBALSE       -0.67     42.11     413\n",
       "3     NAVARRA   9269                ALSASUA       -2.18     42.89     525\n",
       "4     NAVARRA   9301             MONTEAGUDO       -1.69     41.96     410\n",
       "5       SORIA   2030   SORIA 'OBSERVATORIO'       -2.48     41.77    1082\n",
       "6       SORIA   2085       EL BURGO DE OSMA       -3.07     41.59     895\n",
       "7   TARRAGONA   1017               VILASECA        1.15     41.11      53\n",
       "8   TARRAGONA   9971                TIVISSA        0.73     41.04     310\n",
       "9    ZARAGOZA   9390    DAROCA OBSERVATORIO       -1.41     41.11     779\n",
       "10   ZARAGOZA   9523               ESCATRON       -0.35     41.30     143\n",
       "11   ZARAGOZA   9371       TERRER AZUCARERA       -1.71     41.33     570"
      ]
     },
     "execution_count": 2,
     "metadata": {},
     "output_type": "execute_result"
    }
   ],
   "source": [
    "col_stations = ['province','id','name','longitude','latitude','height','unknown']\n",
    "stationsID = pd.read_csv('data\\ESTACIONES.txt', sep=';', header=None, names=col_stations).drop(columns='unknown')\n",
    "stationsID"
   ]
  },
  {
   "cell_type": "markdown",
   "metadata": {},
   "source": [
    "Now we read climate data from different stations into a dictionary and then merge into one Data Frame:"
   ]
  },
  {
   "cell_type": "code",
   "execution_count": 3,
   "metadata": {},
   "outputs": [
    {
     "data": {
      "text/html": [
       "<div>\n",
       "<style scoped>\n",
       "    .dataframe tbody tr th:only-of-type {\n",
       "        vertical-align: middle;\n",
       "    }\n",
       "\n",
       "    .dataframe tbody tr th {\n",
       "        vertical-align: top;\n",
       "    }\n",
       "\n",
       "    .dataframe thead th {\n",
       "        text-align: right;\n",
       "    }\n",
       "</style>\n",
       "<table border=\"1\" class=\"dataframe\">\n",
       "  <thead>\n",
       "    <tr style=\"text-align: right;\">\n",
       "      <th></th>\n",
       "      <th>1203</th>\n",
       "      <th>9069</th>\n",
       "      <th>9489</th>\n",
       "      <th>9269</th>\n",
       "      <th>9301</th>\n",
       "      <th>2030</th>\n",
       "      <th>2085</th>\n",
       "      <th>1017</th>\n",
       "      <th>9971</th>\n",
       "      <th>9390</th>\n",
       "      <th>9523</th>\n",
       "      <th>9371</th>\n",
       "    </tr>\n",
       "  </thead>\n",
       "  <tbody>\n",
       "    <tr>\n",
       "      <th>1956</th>\n",
       "      <td>5.56123</td>\n",
       "      <td>7.92211</td>\n",
       "      <td>7.72084</td>\n",
       "      <td>6.19617</td>\n",
       "      <td>5.82826</td>\n",
       "      <td>1.32384</td>\n",
       "      <td>1.73872</td>\n",
       "      <td>10.1185</td>\n",
       "      <td>8.16141</td>\n",
       "      <td>6.61261</td>\n",
       "      <td>7.91825</td>\n",
       "      <td>4.61540</td>\n",
       "    </tr>\n",
       "    <tr>\n",
       "      <th>1957</th>\n",
       "      <td>4.98041</td>\n",
       "      <td>8.63398</td>\n",
       "      <td>8.17260</td>\n",
       "      <td>7.34303</td>\n",
       "      <td>6.66681</td>\n",
       "      <td>1.97370</td>\n",
       "      <td>1.15640</td>\n",
       "      <td>10.5183</td>\n",
       "      <td>8.58456</td>\n",
       "      <td>7.26526</td>\n",
       "      <td>8.30919</td>\n",
       "      <td>5.07892</td>\n",
       "    </tr>\n",
       "    <tr>\n",
       "      <th>1958</th>\n",
       "      <td>5.96169</td>\n",
       "      <td>9.97144</td>\n",
       "      <td>9.59621</td>\n",
       "      <td>7.55125</td>\n",
       "      <td>7.41064</td>\n",
       "      <td>3.44861</td>\n",
       "      <td>2.49214</td>\n",
       "      <td>11.9026</td>\n",
       "      <td>9.59260</td>\n",
       "      <td>8.51326</td>\n",
       "      <td>9.41647</td>\n",
       "      <td>6.30164</td>\n",
       "    </tr>\n",
       "    <tr>\n",
       "      <th>1959</th>\n",
       "      <td>6.51167</td>\n",
       "      <td>9.87581</td>\n",
       "      <td>9.98493</td>\n",
       "      <td>6.89783</td>\n",
       "      <td>7.44723</td>\n",
       "      <td>4.06046</td>\n",
       "      <td>4.53880</td>\n",
       "      <td>12.6202</td>\n",
       "      <td>9.76165</td>\n",
       "      <td>8.73918</td>\n",
       "      <td>9.45702</td>\n",
       "      <td>6.85304</td>\n",
       "    </tr>\n",
       "    <tr>\n",
       "      <th>1960</th>\n",
       "      <td>6.52788</td>\n",
       "      <td>9.61240</td>\n",
       "      <td>9.48082</td>\n",
       "      <td>6.62796</td>\n",
       "      <td>7.30628</td>\n",
       "      <td>3.24076</td>\n",
       "      <td>3.70945</td>\n",
       "      <td>11.9556</td>\n",
       "      <td>9.17480</td>\n",
       "      <td>8.52391</td>\n",
       "      <td>8.87280</td>\n",
       "      <td>6.26711</td>\n",
       "    </tr>\n",
       "  </tbody>\n",
       "</table>\n",
       "</div>"
      ],
      "text/plain": [
       "         1203     9069     9489     9269     9301     2030     2085     1017  \\\n",
       "1956  5.56123  7.92211  7.72084  6.19617  5.82826  1.32384  1.73872  10.1185   \n",
       "1957  4.98041  8.63398  8.17260  7.34303  6.66681  1.97370  1.15640  10.5183   \n",
       "1958  5.96169  9.97144  9.59621  7.55125  7.41064  3.44861  2.49214  11.9026   \n",
       "1959  6.51167  9.87581  9.98493  6.89783  7.44723  4.06046  4.53880  12.6202   \n",
       "1960  6.52788  9.61240  9.48082  6.62796  7.30628  3.24076  3.70945  11.9556   \n",
       "\n",
       "         9971     9390     9523     9371  \n",
       "1956  8.16141  6.61261  7.91825  4.61540  \n",
       "1957  8.58456  7.26526  8.30919  5.07892  \n",
       "1958  9.59260  8.51326  9.41647  6.30164  \n",
       "1959  9.76165  8.73918  9.45702  6.85304  \n",
       "1960  9.17480  8.52391  8.87280  6.26711  "
      ]
     },
     "execution_count": 3,
     "metadata": {},
     "output_type": "execute_result"
    }
   ],
   "source": [
    "#col_station = ['year','temperature']\n",
    "station = {}\n",
    "for id in stationsID['id'].iteritems():\n",
    "    station[str(id[1])] = pd.read_csv('data/Tmin_'+str(id[1])+'_filled_annual_means.txt', sep='    ',\n",
    "                                      header=None, names=['year',str(id[1])], engine='python').set_index('year')\n",
    "stations = pd.concat(station.values(),axis=1)\n",
    "stations.index.name=None\n",
    "stations.head()"
   ]
  },
  {
   "cell_type": "markdown",
   "metadata": {},
   "source": [
    "Now we choose the origin or studied station:"
   ]
  },
  {
   "cell_type": "code",
   "execution_count": 4,
   "metadata": {},
   "outputs": [
    {
     "data": {
      "text/plain": [
       "1956    7.72084\n",
       "1957    8.17260\n",
       "1958    9.59621\n",
       "1959    9.98493\n",
       "1960    9.48082\n",
       "1961    9.47640\n",
       "1962    9.19167\n",
       "1963    8.80165\n",
       "1964    9.11081\n",
       "1965    7.75566\n",
       "1966    9.62110\n",
       "1967    9.11726\n",
       "1968    9.41743\n",
       "1969    6.98790\n",
       "1970    6.91014\n",
       "1971    6.82082\n",
       "1972    6.55315\n",
       "1973    6.55040\n",
       "1974    6.31945\n",
       "1975    6.57480\n",
       "1976    6.65507\n",
       "1977    7.14603\n",
       "1978    6.96055\n",
       "1979    7.43593\n",
       "1980    6.83425\n",
       "1981    8.22278\n",
       "1982    8.10849\n",
       "1983    7.57781\n",
       "1984    6.78110\n",
       "1985    7.02055\n",
       "1986    7.38822\n",
       "1987    7.92877\n",
       "1988    7.36740\n",
       "1989    8.78137\n",
       "1990    8.69617\n",
       "1991    8.34352\n",
       "1992    7.70271\n",
       "1993    8.16630\n",
       "1994    8.87703\n",
       "1995    8.52986\n",
       "1996    8.49671\n",
       "1997    8.00521\n",
       "1998    6.96603\n",
       "Name: 9489, dtype: float64"
      ]
     },
     "execution_count": 4,
     "metadata": {},
     "output_type": "execute_result"
    },
    {
     "data": {
      "image/png": "[encoded data removed]",
      "text/plain": [
       "<matplotlib.figure.Figure at 0x1fe0bd024e0>"
      ]
     },
     "metadata": {},
     "output_type": "display_data"
    }
   ],
   "source": [
    "origin = '9489'\n",
    "stations[origin].plot.line()\n",
    "oriSeries = stations[origin]\n",
    "oriSeries"
   ]
  },
  {
   "cell_type": "markdown",
   "metadata": {},
   "source": [
    "Then we have to calculate the difference between years so discontinuities in other series lose weight"
   ]
  },
  {
   "cell_type": "code",
   "execution_count": 5,
   "metadata": {},
   "outputs": [],
   "source": [
    "ydiff ={}\n",
    "for col in stations.columns[:]:\n",
    "    ydiff[col] = stations[col].shift(-1)-stations[col]\n",
    "yearDiff = pd.concat(ydiff.values(), axis=1).drop(1998)"
   ]
  },
  {
   "cell_type": "code",
   "execution_count": 6,
   "metadata": {},
   "outputs": [
    {
     "data": {
      "text/plain": [
       "<matplotlib.axes._subplots.AxesSubplot at 0x1fe0de22320>"
      ]
     },
     "execution_count": 6,
     "metadata": {},
     "output_type": "execute_result"
    },
    {
     "data": {
      "image/png": "[encoded data removed]",
      "text/plain": [
       "<matplotlib.figure.Figure at 0x1fe0ddf7710>"
      ]
     },
     "metadata": {},
     "output_type": "display_data"
    }
   ],
   "source": [
    "yearDiff[origin].plot.line()"
   ]
  },
  {
   "cell_type": "markdown",
   "metadata": {},
   "source": [
    "At this point we can look for the stations with the best correlation in the year difference and took the first five:"
   ]
  },
  {
   "cell_type": "code",
   "execution_count": 7,
   "metadata": {},
   "outputs": [],
   "source": [
    "correlations = yearDiff.corr(method='pearson')\n",
    "bestSts = correlations[origin][correlations[origin] > 0.35].drop(origin).sort_values(ascending=False).head(5) \\\n",
    "            .to_frame(name='corrCoef')\n",
    "bestSts['corrCoef2'] = bestSts['corrCoef']**2"
   ]
  },
  {
   "cell_type": "markdown",
   "metadata": {},
   "source": [
    "Create a reference series with the five stations, weighted with R<sup>2</sup> "
   ]
  },
  {
   "cell_type": "code",
   "execution_count": 16,
   "metadata": {},
   "outputs": [],
   "source": [
    "refDict = {}\n",
    "for index in bestSts.index:\n",
    "    refDict[index] = yearDiff[index]*bestSts['corrCoef2'].loc[index]\n",
    "refSeriesDiff = pd.concat(refDict.values(), axis=1).sum(axis=1)/bestSts['corrCoef2'].sum()"
   ]
  },
  {
   "cell_type": "markdown",
   "metadata": {},
   "source": [
    "Taking the most recent data in the original station as valid we apply the annual difference"
   ]
  },
  {
   "cell_type": "code",
   "execution_count": 13,
   "metadata": {},
   "outputs": [],
   "source": [
    "refSeries = oriSeries.copy()\n",
    "for i,diff in enumerate(refSeriesDiff.sort_index(ascending=False).tolist()):\n",
    "    refSeries.loc[1998-(i+1)] = refSeries.loc[1998-i]+diff\n",
    "refSeries = refSeries.sort_index()"
   ]
  },
  {
   "cell_type": "code",
   "execution_count": 14,
   "metadata": {},
   "outputs": [
    {
     "data": {
      "text/plain": [
       "<matplotlib.axes._subplots.AxesSubplot at 0x1fe0df936d8>"
      ]
     },
     "execution_count": 14,
     "metadata": {},
     "output_type": "execute_result"
    },
    {
     "data": {
      "image/png": "[encoded data removed]",
      "text/plain": [
       "<matplotlib.figure.Figure at 0x1fe0df86da0>"
      ]
     },
     "metadata": {},
     "output_type": "display_data"
    }
   ],
   "source": [
    "OriRefDF = pd.concat({'Reference':refSeries, 'Original':oriSeries}, axis=1)\n",
    "OriRefDF.plot.line()"
   ]
  },
  {
   "cell_type": "code",
   "execution_count": 11,
   "metadata": {},
   "outputs": [
    {
     "ename": "NameError",
     "evalue": "name 'OriRef' is not defined",
     "output_type": "error",
     "traceback": [
      "\u001b[1;31m---------------------------------------------------------------------------\u001b[0m",
      "\u001b[1;31mNameError\u001b[0m                                 Traceback (most recent call last)",
      "\u001b[1;32m<ipython-input-11-d4dea4d6f999>\u001b[0m in \u001b[0;36m<module>\u001b[1;34m()\u001b[0m\n\u001b[1;32m----> 1\u001b[1;33m \u001b[0mOriRef\u001b[0m\u001b[1;33m[\u001b[0m\u001b[1;34m'diff'\u001b[0m\u001b[1;33m]\u001b[0m\u001b[1;33m=\u001b[0m\u001b[0mOriRef\u001b[0m\u001b[1;33m[\u001b[0m\u001b[1;34m''\u001b[0m\u001b[1;33m]\u001b[0m\u001b[1;33m\u001b[0m\u001b[0m\n\u001b[0m",
      "\u001b[1;31mNameError\u001b[0m: name 'OriRef' is not defined"
     ]
    }
   ],
   "source": [
    "OriRef['diff']=OriRef['']"
   ]
  },
  {
   "cell_type": "code",
   "execution_count": null,
   "metadata": {},
   "outputs": [],
   "source": []
  },
  {
   "cell_type": "code",
   "execution_count": null,
   "metadata": {},
   "outputs": [],
   "source": []
  }
 ],
 "metadata": {
  "kernelspec": {
   "display_name": "Python 3",
   "language": "python",
   "name": "python3"
  },
  "language_info": {
   "codemirror_mode": {
    "name": "ipython",
    "version": 3
   },
   "file_extension": ".py",
   "mimetype": "text/x-python",
   "name": "python",
   "nbconvert_exporter": "python",
   "pygments_lexer": "ipython3",
   "version": "3.6.4"
  }
 },
 "nbformat": 4,
 "nbformat_minor": 2
}
